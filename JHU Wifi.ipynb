{
 "cells": [
  {
   "cell_type": "code",
   "execution_count": 1,
   "metadata": {
    "collapsed": true
   },
   "outputs": [],
   "source": [
    "import pandas as pd\n",
    "import numpy as np\n",
    "import matplotlib.pyplot as plt\n",
    "from IPython.display import display\n",
    "%matplotlib inline\n",
    "plt.style.use('fivethirtyeight')\n",
    "\n",
    "path = 'data/jhu_wifi/WigleWifi_20150911210322.csv'"
   ]
  },
  {
   "cell_type": "code",
   "execution_count": 2,
   "metadata": {
    "collapsed": false
   },
   "outputs": [
    {
     "data": {
      "text/html": [
       "<div>\n",
       "<table border=\"1\" class=\"dataframe\">\n",
       "  <thead>\n",
       "    <tr style=\"text-align: right;\">\n",
       "      <th></th>\n",
       "      <th>MAC</th>\n",
       "      <th>SSID</th>\n",
       "      <th>AuthMode</th>\n",
       "      <th>FirstSeen</th>\n",
       "      <th>Channel</th>\n",
       "      <th>RSSI</th>\n",
       "      <th>CurrentLatitude</th>\n",
       "      <th>CurrentLongitude</th>\n",
       "      <th>AltitudeMeters</th>\n",
       "      <th>AccuracyMeters</th>\n",
       "      <th>Type</th>\n",
       "    </tr>\n",
       "  </thead>\n",
       "  <tbody>\n",
       "    <tr>\n",
       "      <th>0</th>\n",
       "      <td>00:c0:ca:85:06:23</td>\n",
       "      <td>wyman</td>\n",
       "      <td>[WPA2-PSK-CCMP][ESS]</td>\n",
       "      <td>2015-09-11 20:30:35</td>\n",
       "      <td>6</td>\n",
       "      <td>-78</td>\n",
       "      <td>39.326259</td>\n",
       "      <td>-76.62385</td>\n",
       "      <td>22</td>\n",
       "      <td>8</td>\n",
       "      <td>WIFI</td>\n",
       "    </tr>\n",
       "    <tr>\n",
       "      <th>1</th>\n",
       "      <td>6c:b0:ce:f2:06:e8</td>\n",
       "      <td>NETGEAR15</td>\n",
       "      <td>[WPA2-PSK-CCMP][WPS][ESS]</td>\n",
       "      <td>2015-09-11 20:30:35</td>\n",
       "      <td>1</td>\n",
       "      <td>-87</td>\n",
       "      <td>39.326259</td>\n",
       "      <td>-76.62385</td>\n",
       "      <td>22</td>\n",
       "      <td>8</td>\n",
       "      <td>WIFI</td>\n",
       "    </tr>\n",
       "    <tr>\n",
       "      <th>2</th>\n",
       "      <td>8e:04:ff:74:4e:17</td>\n",
       "      <td>xfinitywifi</td>\n",
       "      <td>[ESS]</td>\n",
       "      <td>2015-09-11 20:30:35</td>\n",
       "      <td>6</td>\n",
       "      <td>-90</td>\n",
       "      <td>39.326259</td>\n",
       "      <td>-76.62385</td>\n",
       "      <td>22</td>\n",
       "      <td>8</td>\n",
       "      <td>WIFI</td>\n",
       "    </tr>\n",
       "    <tr>\n",
       "      <th>3</th>\n",
       "      <td>f4:4e:05:98:62:a2</td>\n",
       "      <td>eduroam</td>\n",
       "      <td>[WPA2-EAP-CCMP][ESS]</td>\n",
       "      <td>2015-09-11 20:30:35</td>\n",
       "      <td>1</td>\n",
       "      <td>-81</td>\n",
       "      <td>39.326259</td>\n",
       "      <td>-76.62385</td>\n",
       "      <td>22</td>\n",
       "      <td>8</td>\n",
       "      <td>WIFI</td>\n",
       "    </tr>\n",
       "    <tr>\n",
       "      <th>4</th>\n",
       "      <td>8e:04:ff:74:4e:16</td>\n",
       "      <td>NaN</td>\n",
       "      <td>[WPA2-PSK-CCMP][ESS]</td>\n",
       "      <td>2015-09-11 20:30:35</td>\n",
       "      <td>6</td>\n",
       "      <td>-84</td>\n",
       "      <td>39.326259</td>\n",
       "      <td>-76.62385</td>\n",
       "      <td>22</td>\n",
       "      <td>8</td>\n",
       "      <td>WIFI</td>\n",
       "    </tr>\n",
       "  </tbody>\n",
       "</table>\n",
       "</div>"
      ],
      "text/plain": [
       "                 MAC         SSID                   AuthMode  \\\n",
       "0  00:c0:ca:85:06:23        wyman       [WPA2-PSK-CCMP][ESS]   \n",
       "1  6c:b0:ce:f2:06:e8    NETGEAR15  [WPA2-PSK-CCMP][WPS][ESS]   \n",
       "2  8e:04:ff:74:4e:17  xfinitywifi                      [ESS]   \n",
       "3  f4:4e:05:98:62:a2      eduroam       [WPA2-EAP-CCMP][ESS]   \n",
       "4  8e:04:ff:74:4e:16          NaN       [WPA2-PSK-CCMP][ESS]   \n",
       "\n",
       "             FirstSeen  Channel  RSSI  CurrentLatitude  CurrentLongitude  \\\n",
       "0  2015-09-11 20:30:35        6   -78        39.326259         -76.62385   \n",
       "1  2015-09-11 20:30:35        1   -87        39.326259         -76.62385   \n",
       "2  2015-09-11 20:30:35        6   -90        39.326259         -76.62385   \n",
       "3  2015-09-11 20:30:35        1   -81        39.326259         -76.62385   \n",
       "4  2015-09-11 20:30:35        6   -84        39.326259         -76.62385   \n",
       "\n",
       "   AltitudeMeters  AccuracyMeters  Type  \n",
       "0              22               8  WIFI  \n",
       "1              22               8  WIFI  \n",
       "2              22               8  WIFI  \n",
       "3              22               8  WIFI  \n",
       "4              22               8  WIFI  "
      ]
     },
     "execution_count": 2,
     "metadata": {},
     "output_type": "execute_result"
    }
   ],
   "source": [
    "df = pd.read_csv(path, encoding = \"ISO-8859-1\")\n",
    "df.head()"
   ]
  },
  {
   "cell_type": "markdown",
   "metadata": {},
   "source": [
    "Now we have the data loaded nicely into a Pandas dataframe and we can look at some of the basics of the data."
   ]
  },
  {
   "cell_type": "code",
   "execution_count": 3,
   "metadata": {
    "collapsed": false
   },
   "outputs": [
    {
     "data": {
      "text/plain": [
       "'Number of rows: 2358'"
      ]
     },
     "metadata": {},
     "output_type": "display_data"
    },
    {
     "data": {
      "text/plain": [
       "'Unique SSIDs: 511'"
      ]
     },
     "metadata": {},
     "output_type": "display_data"
    },
    {
     "data": {
      "text/plain": [
       "'Unique MACs: 1527'"
      ]
     },
     "metadata": {},
     "output_type": "display_data"
    },
    {
     "data": {
      "text/plain": [
       "'Number of Auth Mode types: 31'"
      ]
     },
     "metadata": {},
     "output_type": "display_data"
    }
   ],
   "source": [
    "display('Number of rows: {}'.format(len(df)))\n",
    "display('Unique SSIDs: {}'.format(len(df['SSID'].unique())))\n",
    "display('Unique MACs: {}'.format(len(df['MAC'].unique())))\n",
    "display('Number of Auth Mode types: {}'.format(len(df['AuthMode'].unique())))"
   ]
  },
  {
   "cell_type": "code",
   "execution_count": 4,
   "metadata": {
    "collapsed": false
   },
   "outputs": [
    {
     "data": {
      "text/plain": [
       "<matplotlib.axes._subplots.AxesSubplot at 0x7f3d67dac1d0>"
      ]
     },
     "execution_count": 4,
     "metadata": {},
     "output_type": "execute_result"
    },
    {
     "data": {
      "image/png": "[encoded data removed]",
      "text/plain": [
       "<matplotlib.figure.Figure at 0x7f3d67dc12e8>"
      ]
     },
     "metadata": {},
     "output_type": "display_data"
    }
   ],
   "source": [
    "def auth_filter(x):\n",
    "    if 'WPA2' in x:\n",
    "        return 'WPA2'\n",
    "    elif 'WPA' in x:\n",
    "        return 'WPA'\n",
    "    elif 'WEP' in x:\n",
    "        return 'WEP'\n",
    "    else:\n",
    "        return 'OPEN'\n",
    "\n",
    "df['AuthMode'].apply(auth_filter).value_counts().plot(kind='barh')"
   ]
  },
  {
   "cell_type": "markdown",
   "metadata": {},
   "source": [
    "So there are a significant number of open networks, but the overall majority use WPA2. That's good for the University but not so great for attackers. Of course, there could be a way around that via WPS. How many networks use that?"
   ]
  },
  {
   "cell_type": "code",
   "execution_count": 5,
   "metadata": {
    "collapsed": false
   },
   "outputs": [
    {
     "data": {
      "text/plain": [
       "<matplotlib.axes._subplots.AxesSubplot at 0x7f3d6848f828>"
      ]
     },
     "execution_count": 5,
     "metadata": {},
     "output_type": "execute_result"
    },
    {
     "data": {
      "image/png": "[encoded data removed]",
      "text/plain": [
       "<matplotlib.figure.Figure at 0x7f3d67dacda0>"
      ]
     },
     "metadata": {},
     "output_type": "display_data"
    }
   ],
   "source": [
    "def wps(x):\n",
    "    if 'WPS' in x:\n",
    "        return 'WPS'\n",
    "    else:\n",
    "        return 'Not WPS'\n",
    "df['AuthMode'].apply(wps).value_counts().plot(kind='barh')"
   ]
  },
  {
   "cell_type": "markdown",
   "metadata": {},
   "source": [
    "Over 500 networks use WPS! Using a tool like Reaver an attacker could easily breach those networks.\n",
    "\n",
    "This is just some basic insights into the data. We could look further into the different forms of WPA/WPA2 authentication, but for an attacker these insights are enough. Using the above function for extracting WPS networks, an attacker could determine the locations of those networks and mount an attack on each of them."
   ]
  },
  {
   "cell_type": "code",
   "execution_count": 6,
   "metadata": {
    "collapsed": false
   },
   "outputs": [
    {
     "data": {
      "text/html": [
       "<div>\n",
       "<table border=\"1\" class=\"dataframe\">\n",
       "  <thead>\n",
       "    <tr style=\"text-align: right;\">\n",
       "      <th></th>\n",
       "      <th>MAC</th>\n",
       "      <th>SSID</th>\n",
       "      <th>AuthMode</th>\n",
       "      <th>FirstSeen</th>\n",
       "      <th>Channel</th>\n",
       "      <th>RSSI</th>\n",
       "      <th>CurrentLatitude</th>\n",
       "      <th>CurrentLongitude</th>\n",
       "      <th>AltitudeMeters</th>\n",
       "      <th>AccuracyMeters</th>\n",
       "      <th>Type</th>\n",
       "    </tr>\n",
       "  </thead>\n",
       "  <tbody>\n",
       "    <tr>\n",
       "      <th>1</th>\n",
       "      <td>6c:b0:ce:f2:06:e8</td>\n",
       "      <td>NETGEAR15</td>\n",
       "      <td>[WPA2-PSK-CCMP][WPS][ESS]</td>\n",
       "      <td>2015-09-11 20:30:35</td>\n",
       "      <td>1</td>\n",
       "      <td>-87</td>\n",
       "      <td>39.326259</td>\n",
       "      <td>-76.623850</td>\n",
       "      <td>22</td>\n",
       "      <td>8</td>\n",
       "      <td>WIFI</td>\n",
       "    </tr>\n",
       "    <tr>\n",
       "      <th>5</th>\n",
       "      <td>8c:04:ff:74:4e:15</td>\n",
       "      <td>HOME-4E15</td>\n",
       "      <td>[WPA-PSK-CCMP+TKIP][WPA2-PSK-CCMP+TKIP][WPS][ESS]</td>\n",
       "      <td>2015-09-11 20:30:35</td>\n",
       "      <td>6</td>\n",
       "      <td>-90</td>\n",
       "      <td>39.326259</td>\n",
       "      <td>-76.623850</td>\n",
       "      <td>22</td>\n",
       "      <td>8</td>\n",
       "      <td>WIFI</td>\n",
       "    </tr>\n",
       "    <tr>\n",
       "      <th>21</th>\n",
       "      <td>00:22:6b:5d:8e:b3</td>\n",
       "      <td>ttbar</td>\n",
       "      <td>[WPA-PSK-TKIP][WPS][ESS]</td>\n",
       "      <td>2015-09-11 20:32:19</td>\n",
       "      <td>11</td>\n",
       "      <td>-90</td>\n",
       "      <td>39.330436</td>\n",
       "      <td>-76.623186</td>\n",
       "      <td>22</td>\n",
       "      <td>7</td>\n",
       "      <td>WIFI</td>\n",
       "    </tr>\n",
       "    <tr>\n",
       "      <th>30</th>\n",
       "      <td>e8:de:27:80:7a:ba</td>\n",
       "      <td>TP-LINK_807ABA</td>\n",
       "      <td>[WPA2-PSK-CCMP][WPS][ESS]</td>\n",
       "      <td>2015-09-11 20:32:47</td>\n",
       "      <td>6</td>\n",
       "      <td>-93</td>\n",
       "      <td>39.330757</td>\n",
       "      <td>-76.621889</td>\n",
       "      <td>27</td>\n",
       "      <td>10</td>\n",
       "      <td>WIFI</td>\n",
       "    </tr>\n",
       "    <tr>\n",
       "      <th>31</th>\n",
       "      <td>a0:63:91:cc:44:ee</td>\n",
       "      <td>CC-WiFi</td>\n",
       "      <td>[WPA2-PSK-CCMP][WPS][ESS]</td>\n",
       "      <td>2015-09-11 20:32:47</td>\n",
       "      <td>9</td>\n",
       "      <td>-93</td>\n",
       "      <td>39.330757</td>\n",
       "      <td>-76.621889</td>\n",
       "      <td>27</td>\n",
       "      <td>10</td>\n",
       "      <td>WIFI</td>\n",
       "    </tr>\n",
       "  </tbody>\n",
       "</table>\n",
       "</div>"
      ],
      "text/plain": [
       "                  MAC            SSID  \\\n",
       "1   6c:b0:ce:f2:06:e8       NETGEAR15   \n",
       "5   8c:04:ff:74:4e:15       HOME-4E15   \n",
       "21  00:22:6b:5d:8e:b3           ttbar   \n",
       "30  e8:de:27:80:7a:ba  TP-LINK_807ABA   \n",
       "31  a0:63:91:cc:44:ee         CC-WiFi   \n",
       "\n",
       "                                             AuthMode            FirstSeen  \\\n",
       "1                           [WPA2-PSK-CCMP][WPS][ESS]  2015-09-11 20:30:35   \n",
       "5   [WPA-PSK-CCMP+TKIP][WPA2-PSK-CCMP+TKIP][WPS][ESS]  2015-09-11 20:30:35   \n",
       "21                           [WPA-PSK-TKIP][WPS][ESS]  2015-09-11 20:32:19   \n",
       "30                          [WPA2-PSK-CCMP][WPS][ESS]  2015-09-11 20:32:47   \n",
       "31                          [WPA2-PSK-CCMP][WPS][ESS]  2015-09-11 20:32:47   \n",
       "\n",
       "    Channel  RSSI  CurrentLatitude  CurrentLongitude  AltitudeMeters  \\\n",
       "1         1   -87        39.326259        -76.623850              22   \n",
       "5         6   -90        39.326259        -76.623850              22   \n",
       "21       11   -90        39.330436        -76.623186              22   \n",
       "30        6   -93        39.330757        -76.621889              27   \n",
       "31        9   -93        39.330757        -76.621889              27   \n",
       "\n",
       "    AccuracyMeters  Type  \n",
       "1                8  WIFI  \n",
       "5                8  WIFI  \n",
       "21               7  WIFI  \n",
       "30              10  WIFI  \n",
       "31              10  WIFI  "
      ]
     },
     "execution_count": 6,
     "metadata": {},
     "output_type": "execute_result"
    }
   ],
   "source": [
    "s = df['AuthMode'].apply(wps)\n",
    "wps_entries = df.ix[s[s == 'WPS'].index]\n",
    "wps_entries.head()"
   ]
  }
 ],
 "metadata": {
  "kernelspec": {
   "display_name": "Python 3",
   "language": "python",
   "name": "python3"
  },
  "language_info": {
   "codemirror_mode": {
    "name": "ipython",
    "version": 3
   },
   "file_extension": ".py",
   "mimetype": "text/x-python",
   "name": "python",
   "nbconvert_exporter": "python",
   "pygments_lexer": "ipython3",
   "version": "3.4.3"
  }
 },
 "nbformat": 4,
 "nbformat_minor": 0
}
